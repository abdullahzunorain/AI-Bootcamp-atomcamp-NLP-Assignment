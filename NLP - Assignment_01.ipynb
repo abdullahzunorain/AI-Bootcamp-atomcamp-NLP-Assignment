{
 "cells": [
  {
   "cell_type": "markdown",
   "id": "24c769ed",
   "metadata": {},
   "source": [
    "# NLP - Assignment_01\n",
    "\n",
    "    By Abdullah Zunorain"
   ]
  },
  {
   "cell_type": "code",
   "execution_count": 23,
   "id": "09995236",
   "metadata": {},
   "outputs": [],
   "source": [
    "# importing necessary libraries\n",
    "import re\n",
    "import nltk\n",
    "from nltk.corpus import wordnet\n"
   ]
  },
  {
   "cell_type": "code",
   "execution_count": 24,
   "id": "e3dc0ebd",
   "metadata": {},
   "outputs": [
    {
     "name": "stderr",
     "output_type": "stream",
     "text": [
      "[nltk_data] Downloading package wordnet to\n",
      "[nltk_data]     C:\\Users\\lenovo\\AppData\\Roaming\\nltk_data...\n",
      "[nltk_data]   Package wordnet is already up-to-date!\n",
      "[nltk_data] Downloading package punkt to\n",
      "[nltk_data]     C:\\Users\\lenovo\\AppData\\Roaming\\nltk_data...\n",
      "[nltk_data]   Package punkt is already up-to-date!\n"
     ]
    },
    {
     "data": {
      "text/plain": [
       "True"
      ]
     },
     "execution_count": 24,
     "metadata": {},
     "output_type": "execute_result"
    }
   ],
   "source": [
    "# Downloading necessary NLTK data\n",
    "nltk.download('wordnet')\n",
    "nltk.download('punkt')"
   ]
  },
  {
   "cell_type": "code",
   "execution_count": null,
   "id": "85b829be",
   "metadata": {},
   "outputs": [],
   "source": []
  },
  {
   "cell_type": "code",
   "execution_count": 8,
   "id": "a4329bc0",
   "metadata": {},
   "outputs": [],
   "source": [
    "# 1. Set of all strings with two consecutive repeated words\n",
    "def find_consecutive_repeated_words(text):\n",
    "    pattern = r'\\b(\\w+)\\s+\\1\\b'\n",
    "    return re.findall(pattern, text)"
   ]
  },
  {
   "cell_type": "code",
   "execution_count": 9,
   "id": "6bbcb193",
   "metadata": {},
   "outputs": [],
   "source": [
    "# 2. Strings that start at the beginning of the line with an integer and end at the end of the line with a word\n",
    "def find_strings_start_with_int_end_with_word(text):\n",
    "    pattern = r'^\\d.*\\b\\w+\\b$'\n",
    "    return re.findall(pattern, text, re.MULTILINE)"
   ]
  },
  {
   "cell_type": "code",
   "execution_count": 10,
   "id": "f963489d",
   "metadata": {},
   "outputs": [],
   "source": [
    "# 3. Strings that have both the word 'grotto' and the word 'raven'\n",
    "def find_grotto_and_raven(text):\n",
    "    pattern = r'\\b(grotto|raven)\\b.*\\b(raven|grotto)\\b'\n",
    "    return re.findall(pattern, text, re.IGNORECASE)"
   ]
  },
  {
   "cell_type": "code",
   "execution_count": 11,
   "id": "58b9f1d4",
   "metadata": {},
   "outputs": [],
   "source": [
    "# 4. Demonstrate a pattern to check if the email address is valid\n",
    "def is_valid_email(email):\n",
    "    pattern = r'^[a-zA-Z0-9_.+-]+@[a-zA-Z0-9-]+\\.[a-zA-Z0-9-.]+$'\n",
    "    return re.match(pattern, email) is not None"
   ]
  },
  {
   "cell_type": "code",
   "execution_count": 12,
   "id": "906a6de7",
   "metadata": {},
   "outputs": [],
   "source": [
    "# 5. Verify the validity of a phone number, and check if it belongs to the Pakistani Mobile Network\n",
    "def is_valid_pakistani_number(phone):\n",
    "    pattern = r'^(\\+92|0)?3\\d{2}-?\\d{7}$'\n",
    "    return re.match(pattern, phone) is not None"
   ]
  },
  {
   "cell_type": "code",
   "execution_count": 13,
   "id": "5492a3c4",
   "metadata": {},
   "outputs": [],
   "source": [
    "# 6. Remove symbols and non-alphanumeric characters from the string paragraph\n",
    "def remove_symbols(paragraph):\n",
    "    pattern = r'[^a-zA-Z0-9\\s]'\n",
    "    return re.sub(pattern, '', paragraph)"
   ]
  },
  {
   "cell_type": "code",
   "execution_count": 14,
   "id": "f80e7b75",
   "metadata": {},
   "outputs": [],
   "source": [
    "# 7. Remove URLs and HTML tags from the text string\n",
    "def remove_urls_and_html(text):\n",
    "    text = re.sub(r'https?://\\S+|www\\.\\S+', '', text)\n",
    "    text = re.sub(r'<.*?>', '', text)\n",
    "    return text"
   ]
  },
  {
   "cell_type": "code",
   "execution_count": 15,
   "id": "6bcc4651",
   "metadata": {},
   "outputs": [],
   "source": [
    "\n",
    "# 8. Find acronyms that are in uppercase letters\n",
    "def find_acronyms(text):\n",
    "    pattern = r'\\b[A-Z]{2,}\\b'\n",
    "    return re.findall(pattern, text)"
   ]
  },
  {
   "cell_type": "code",
   "execution_count": 16,
   "id": "dfa6b9c3",
   "metadata": {},
   "outputs": [],
   "source": [
    "# 9. Mask sensitive information such as phone numbers\n",
    "def mask_sensitive_info(text):\n",
    "    pattern = r'\\b\\d{3}-\\d{3}-\\d{4}\\b'\n",
    "    return re.sub(pattern, 'XXX-XXX-XXXX', text)"
   ]
  },
  {
   "cell_type": "code",
   "execution_count": 17,
   "id": "eaca0d29",
   "metadata": {},
   "outputs": [],
   "source": [
    "# 10. Extract dates in various formats\n",
    "def extract_dates(text):\n",
    "    pattern = r'\\b\\d{2}-\\d{2}-\\d{4}\\b|\\b\\d{2}/\\d{2}/\\d{4}\\b'\n",
    "    return re.findall(pattern, text)"
   ]
  },
  {
   "cell_type": "code",
   "execution_count": 18,
   "id": "5db0e26f",
   "metadata": {},
   "outputs": [],
   "source": [
    "# 11. Extract currency amounts\n",
    "def extract_currency_amounts(text):\n",
    "    pattern = r'\\$\\d+(\\.\\d{2})?|\\€\\d+(\\.\\d{2})?'\n",
    "    return re.findall(pattern, text)"
   ]
  },
  {
   "cell_type": "code",
   "execution_count": 19,
   "id": "d81a50ae",
   "metadata": {},
   "outputs": [],
   "source": [
    "# 12. Find capitalized words\n",
    "def find_capitalized_words(text):\n",
    "    pattern = r'\\b[A-Z][a-z]*\\b'\n",
    "    return re.findall(pattern, text)"
   ]
  },
  {
   "cell_type": "code",
   "execution_count": 20,
   "id": "08676f5c",
   "metadata": {},
   "outputs": [],
   "source": [
    "# 13. Find words that are repeated consecutively\n",
    "def find_repeated_words(text):\n",
    "    pattern = r'\\b(\\w+)\\s+\\1\\b'\n",
    "    return re.findall(pattern, text)"
   ]
  },
  {
   "cell_type": "code",
   "execution_count": 32,
   "id": "67479ade",
   "metadata": {},
   "outputs": [],
   "source": [
    "# Example usage of each function\n",
    "text_example = \"\"\"\n",
    "Hello, this is an example text with words like Humbert Humbert and numbers 123 and words.\n",
    "89 this is an example text with words like Humbert.\n",
    "Also, we mention grotto and raven together in a sentence. The email address is example@example.com.\n",
    "A Pakistani phone number could be 0300-1234567 or +923001234567.\n",
    "This paragraph contains $100.00 and €50 as well. Some dates like 12-12-2022 and 12/12/2022.\n",
    "Finally, we have acronyms such as NASA and FBI, and sensitive information 123-456-7890.\n",
    "\"\"\""
   ]
  },
  {
   "cell_type": "code",
   "execution_count": 33,
   "id": "de97fe91",
   "metadata": {},
   "outputs": [
    {
     "name": "stdout",
     "output_type": "stream",
     "text": [
      "1. Consecutive Repeated Words: ['Humbert']\n",
      "2. Start with Int and End with Word: []\n",
      "3. Grotto and Raven: True\n",
      "4. Valid Email: True\n",
      "5. Valid Pakistani Number: True\n",
      "6. Remove Symbols: \n",
      "Hello this is an example text with words like Humbert Humbert and numbers 123 and words\n",
      "89this is an example text with words like Humbert\n",
      "Also we mention grotto and raven together in a sentence The email address is exampleexamplecom\n",
      "A Pakistani phone number could be 03001234567 or 923001234567\n",
      "This paragraph contains 10000 and 50 as well Some dates like 12122022 and 12122022\n",
      "Finally we have acronyms such as NASA and FBI and sensitive information 1234567890\n",
      "\n",
      "7. Remove URLs and HTML: Visit our site: \n",
      "8. Find Acronyms: ['NASA', 'FBI']\n",
      "9. Mask Sensitive Info: \n",
      "Hello, this is an example text with words like Humbert Humbert and numbers 123 and words.\n",
      "89this is an example text with words like Humbert.\n",
      "Also, we mention grotto and raven together in a sentence. The email address is example@example.com.\n",
      "A Pakistani phone number could be 0300-1234567 or +923001234567.\n",
      "This paragraph contains $100.00 and €50 as well. Some dates like 12-12-2022 and 12/12/2022.\n",
      "Finally, we have acronyms such as NASA and FBI, and sensitive information XXX-XXX-XXXX.\n",
      "\n",
      "10. Extract Dates: ['12-12-2022', '12/12/2022']\n",
      "11. Extract Currency Amounts: [('.00', ''), ('', '')]\n",
      "12. Find Capitalized Words: ['Hello', 'Humbert', 'Humbert', 'Humbert', 'Also', 'The', 'A', 'Pakistani', 'This', 'Some', 'Finally']\n",
      "13. Find Repeated Words: ['Humbert']\n"
     ]
    }
   ],
   "source": [
    "print(\"1. Consecutive Repeated Words:\", find_consecutive_repeated_words(text_example))\n",
    "print(\"2. Start with Int and End with Word:\", find_strings_start_with_int_end_with_word(text_example))\n",
    "print(\"3. Grotto and Raven:\", find_grotto_and_raven(text_example))\n",
    "print(\"4. Valid Email:\", is_valid_email(\"example@example.com\"))\n",
    "print(\"5. Valid Pakistani Number:\", is_valid_pakistani_number(\"+923001234567\"))\n",
    "print(\"6. Remove Symbols:\", remove_symbols(text_example))\n",
    "print(\"7. Remove URLs and HTML:\", remove_urls_and_html(\"<p>Visit our site: https://example.com</p>\"))\n",
    "print(\"8. Find Acronyms:\", find_acronyms(text_example))\n",
    "print(\"9. Mask Sensitive Info:\", mask_sensitive_info(text_example))\n",
    "print(\"10. Extract Dates:\", extract_dates(text_example))\n",
    "print(\"11. Extract Currency Amounts:\", extract_currency_amounts(text_example))\n",
    "print(\"12. Find Capitalized Words:\", find_capitalized_words(text_example))\n",
    "print(\"13. Find Repeated Words:\", find_repeated_words(text_example))"
   ]
  },
  {
   "cell_type": "markdown",
   "id": "ea0461f6",
   "metadata": {},
   "source": [
    "***"
   ]
  },
  {
   "cell_type": "markdown",
   "id": "f717e146",
   "metadata": {},
   "source": [
    "    I have to make some changes in the above functions so that it gives us proper and well accurate results.."
   ]
  },
  {
   "cell_type": "code",
   "execution_count": 30,
   "id": "59dabe09",
   "metadata": {},
   "outputs": [],
   "source": [
    "# 1. Set of all strings with two consecutive repeated words\n",
    "def find_consecutive_repeated_words(text):\n",
    "    pattern = r'\\b(\\w+)\\s+\\1\\b'\n",
    "    return re.findall(pattern, text)\n",
    "\n",
    "# 2. Strings that start at the beginning of the line with an integer and end at the end of the line with a word\n",
    "def find_strings_start_with_int_end_with_word(text):\n",
    "    pattern = r'^\\d.*\\b\\w+\\b$'\n",
    "    return re.findall(pattern, text, re.MULTILINE)\n",
    "\n",
    "# 3. Strings that have both the word 'grotto' and the word 'raven'\n",
    "def find_grotto_and_raven(text):\n",
    "    pattern = r'(?=.*\\bgrotto\\b)(?=.*\\braven\\b)'\n",
    "    return bool(re.search(pattern, text, re.IGNORECASE))\n",
    "\n",
    "# 4. Demonstrate a pattern to check if the email address is valid\n",
    "def is_valid_email(email):\n",
    "    pattern = r'^[a-zA-Z0-9_.+-]+@[a-zA-Z0-9-]+\\.[a-zA-Z0-9-.]+$'\n",
    "    return re.match(pattern, email) is not None\n",
    "\n",
    "# 5. Verify the validity of a phone number, and check if it belongs to the Pakistani Mobile Network\n",
    "def is_valid_pakistani_number(phone):\n",
    "    pattern = r'^(\\+92|0)?3\\d{2}-?\\d{7}$'\n",
    "    return re.match(pattern, phone) is not None\n",
    "\n",
    "# 6. Remove symbols and non-alphanumeric characters from the string paragraph\n",
    "def remove_symbols(paragraph):\n",
    "    pattern = r'[^a-zA-Z0-9\\s]'\n",
    "    return re.sub(pattern, '', paragraph)\n",
    "\n",
    "# 7. Remove URLs and HTML tags from the text string\n",
    "def remove_urls_and_html(text):\n",
    "    text = re.sub(r'https?://\\S+|www\\.\\S+', '', text)\n",
    "    text = re.sub(r'<.*?>', '', text)\n",
    "    return text\n",
    "\n",
    "# 8. Find acronyms that are in uppercase letters\n",
    "def find_acronyms(text):\n",
    "    pattern = r'\\b[A-Z]{2,}\\b'\n",
    "    return re.findall(pattern, text)\n",
    "\n",
    "# 9. Mask sensitive information such as phone numbers\n",
    "def mask_sensitive_info(text):\n",
    "    pattern = r'\\b\\d{3}-\\d{3}-\\d{4}\\b'\n",
    "    return re.sub(pattern, 'XXX-XXX-XXXX', text)\n",
    "\n",
    "# 10. Extract dates in various formats\n",
    "def extract_dates(text):\n",
    "    pattern = r'\\b\\d{2}-\\d{2}-\\d{4}\\b|\\b\\d{2}/\\d{2}/\\d{4}\\b'\n",
    "    return re.findall(pattern, text)\n",
    "\n",
    "# 11. Extract currency amounts\n",
    "def extract_currency_amounts(text):\n",
    "    pattern = r'\\$\\d+(\\.\\d{2})?|\\€\\d+(\\.\\d{2})?'\n",
    "    return re.findall(pattern, text)\n",
    "\n",
    "# 12. Find capitalized words\n",
    "def find_capitalized_words(text):\n",
    "    pattern = r'\\b[A-Z][a-z]*\\b'\n",
    "    return re.findall(pattern, text)\n",
    "\n",
    "# 13. Find words that are repeated consecutively\n",
    "def find_repeated_words(text):\n",
    "    pattern = r'\\b(\\w+)\\s+\\1\\b'\n",
    "    return re.findall(pattern, text)"
   ]
  },
  {
   "cell_type": "code",
   "execution_count": 31,
   "id": "bd189bc5",
   "metadata": {},
   "outputs": [
    {
     "name": "stdout",
     "output_type": "stream",
     "text": [
      "1. Consecutive Repeated Words: ['Humbert']\n",
      "2. Start with Int and End with Word: []\n",
      "3. Grotto and Raven: True\n",
      "4. Valid Email: True\n",
      "5. Valid Pakistani Number: True\n",
      "6. Remove Symbols: \n",
      "Hello this is an example text with words like Humbert Humbert and numbers 123 and words\n",
      "89 this is an example text with words like Humbert\n",
      "Also we mention grotto and raven together in a sentence The email address is exampleexamplecom\n",
      "A Pakistani phone number could be 03001234567 or 923001234567\n",
      "This paragraph contains 10000 and 50 as well Some dates like 12122022 and 12122022\n",
      "Finally we have acronyms such as NASA and FBI and sensitive information 1234567890\n",
      "\n",
      "7. Remove URLs and HTML: Visit our site: \n",
      "8. Find Acronyms: ['NASA', 'FBI']\n",
      "9. Mask Sensitive Info: \n",
      "Hello, this is an example text with words like Humbert Humbert and numbers 123 and words.\n",
      "89 this is an example text with words like Humbert.\n",
      "Also, we mention grotto and raven together in a sentence. The email address is example@example.com.\n",
      "A Pakistani phone number could be 0300-1234567 or +923001234567.\n",
      "This paragraph contains $100.00 and €50 as well. Some dates like 12-12-2022 and 12/12/2022.\n",
      "Finally, we have acronyms such as NASA and FBI, and sensitive information XXX-XXX-XXXX.\n",
      "\n",
      "10. Extract Dates: ['12-12-2022', '12/12/2022']\n",
      "11. Extract Currency Amounts: [('.00', ''), ('', '')]\n",
      "12. Find Capitalized Words: ['Hello', 'Humbert', 'Humbert', 'Humbert', 'Also', 'The', 'A', 'Pakistani', 'This', 'Some', 'Finally']\n",
      "13. Find Repeated Words: ['Humbert']\n"
     ]
    }
   ],
   "source": [
    "print(\"1. Consecutive Repeated Words:\", find_consecutive_repeated_words(text_example))\n",
    "print(\"2. Start with Int and End with Word:\", find_strings_start_with_int_end_with_word(text_example))\n",
    "print(\"3. Grotto and Raven:\", find_grotto_and_raven(text_example))\n",
    "print(\"4. Valid Email:\", is_valid_email(\"example@example.com\"))\n",
    "print(\"5. Valid Pakistani Number:\", is_valid_pakistani_number(\"+923001234567\"))\n",
    "print(\"6. Remove Symbols:\", remove_symbols(text_example))\n",
    "print(\"7. Remove URLs and HTML:\", remove_urls_and_html(\"<p>Visit our site: https://example.com</p>\"))\n",
    "print(\"8. Find Acronyms:\", find_acronyms(text_example))\n",
    "print(\"9. Mask Sensitive Info:\", mask_sensitive_info(text_example))\n",
    "print(\"10. Extract Dates:\", extract_dates(text_example))\n",
    "print(\"11. Extract Currency Amounts:\", extract_currency_amounts(text_example))\n",
    "print(\"12. Find Capitalized Words:\", find_capitalized_words(text_example))\n",
    "print(\"13. Find Repeated Words:\", find_repeated_words(text_example))"
   ]
  },
  {
   "cell_type": "code",
   "execution_count": null,
   "id": "77ad2d47",
   "metadata": {},
   "outputs": [],
   "source": []
  }
 ],
 "metadata": {
  "kernelspec": {
   "display_name": "Python 3 (ipykernel)",
   "language": "python",
   "name": "python3"
  },
  "language_info": {
   "codemirror_mode": {
    "name": "ipython",
    "version": 3
   },
   "file_extension": ".py",
   "mimetype": "text/x-python",
   "name": "python",
   "nbconvert_exporter": "python",
   "pygments_lexer": "ipython3",
   "version": "3.11.3"
  }
 },
 "nbformat": 4,
 "nbformat_minor": 5
}
